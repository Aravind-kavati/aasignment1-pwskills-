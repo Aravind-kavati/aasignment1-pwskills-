{
 "cells": [
  {
   "cell_type": "markdown",
   "id": "022879fe-7727-49d6-9d2f-eca7a8d2b5b5",
   "metadata": {},
   "source": [
    "Q1. What are the characteristics of the tuples? Is tuple immutable?"
   ]
  },
  {
   "cell_type": "markdown",
   "id": "acc3e1d8-d296-4b86-8246-887c2806596a",
   "metadata": {},
   "source": [
    "tuples are immutable,\n",
    "tuples are ordered,\n",
    "tuples are Heterogenous collection of data ,\n",
    "size of tuples is fixed at the time of creation."
   ]
  },
  {
   "cell_type": "markdown",
   "id": "c8fe8a5b-8854-4469-864a-08082c0ae572",
   "metadata": {},
   "source": [
    "Q2. What are the two tuple methods in python? Give an example of each method. Give a reason why\n",
    "tuples have only two in-built methods as compared to Lists."
   ]
  },
  {
   "cell_type": "markdown",
   "id": "9d1d3ea3-047c-4f00-a468-8cc7cc1c1c96",
   "metadata": {},
   "source": [
    "The two methods in tuples are count and index\n"
   ]
  },
  {
   "cell_type": "code",
   "execution_count": 14,
   "id": "e680a666-428e-4822-87b4-b79d18e2a66b",
   "metadata": {},
   "outputs": [
    {
     "name": "stdout",
     "output_type": "stream",
     "text": [
      "3\n",
      "1\n"
     ]
    }
   ],
   "source": [
    "t1=(1,2,3,4,5,5,5)\n",
    "print(t1.count(5))\n",
    "print(t1.index(2))\n",
    "##tuples are immutable"
   ]
  },
  {
   "cell_type": "markdown",
   "id": "b7b3dbe7-5b9d-492e-a867-84e717de1b4b",
   "metadata": {},
   "source": [
    "Q3. Which collection datatypes in python do not allow duplicate items? Write a code using a set to remove\n",
    "duplicates from the given list.\n",
    "List = [1, 1, 1, 2, 1, 3, 1, 4, 2, 1, 2, 2, 2, 3, 2, 4, 3, 1, 3, 2, 3, 3, 3, 4, 4, 1, 4, 2, 4, 3, 4, 4]"
   ]
  },
  {
   "cell_type": "markdown",
   "id": "9d39dbb3-1e18-4660-92d6-5df647bd8763",
   "metadata": {},
   "source": [
    "sets does not allow the duplicate items in python"
   ]
  },
  {
   "cell_type": "code",
   "execution_count": 15,
   "id": "9fab4073-3a8b-4e55-8f5c-36e587c3f711",
   "metadata": {},
   "outputs": [],
   "source": [
    "List1 = [1, 1, 1, 2, 1, 3, 1, 4, 2, 1, 2, 2, 2, 3, 2, 4, 3, 1, 3, 2, 3, 3, 3, 4, 4, 1, 4, 2, 4, 3, 4, 4]"
   ]
  },
  {
   "cell_type": "code",
   "execution_count": 16,
   "id": "b190e1e2-32b3-4bb5-8549-bf0410eddc9e",
   "metadata": {},
   "outputs": [
    {
     "name": "stdout",
     "output_type": "stream",
     "text": [
      "{1, 2, 3, 4}\n"
     ]
    }
   ],
   "source": [
    "set1=set(List1)\n",
    "print(set1)"
   ]
  },
  {
   "cell_type": "markdown",
   "id": "f549d1c4-cebc-4e88-a7f7-8644409cec86",
   "metadata": {},
   "source": [
    "Q4. Explain the difference between the union() and update() methods for a set. Give an example of\n",
    "each method."
   ]
  },
  {
   "cell_type": "code",
   "execution_count": 19,
   "id": "dee4b4e4-158b-4994-b9b0-c7f657672c89",
   "metadata": {},
   "outputs": [
    {
     "name": "stdout",
     "output_type": "stream",
     "text": [
      "{1, 2, 3, 4, 5, 6, 7, 8, 9, 10, 11, 12}\n",
      "{1, 2, 3, 4, 5, 6, 7, 8}\n"
     ]
    }
   ],
   "source": [
    " ##method returns a new set that contains all the unique elements from two or more sets.\n",
    "set1={1,2,3,4}\n",
    "set2={5,6,7,8}\n",
    "set3={9,10,11,12}\n",
    "result=set1.union(set2,set3)\n",
    "print(result)\n",
    "## method modifies the set in-place by adding elements from another set or an iterable.\n",
    "set1.update(set2)\n",
    "print(set1)"
   ]
  },
  {
   "cell_type": "markdown",
   "id": "b543c67c-4673-43f9-8a4f-c15fe6fa09c3",
   "metadata": {},
   "source": [
    "Q5. What is a dictionary? Give an example. Also, state whether a dictionary is ordered or unordered."
   ]
  },
  {
   "cell_type": "code",
   "execution_count": 21,
   "id": "c157cf4e-8fb1-402c-b460-9dd92a347d39",
   "metadata": {},
   "outputs": [
    {
     "name": "stdout",
     "output_type": "stream",
     "text": [
      "{'name': 'abcd', 'age': 12}\n"
     ]
    }
   ],
   "source": [
    "## it is a datastructure ni which we can acess the data using key and vale pairs\n",
    "info={'name':'abcd','age':12}\n",
    "print(info)\n",
    "##unordered"
   ]
  },
  {
   "cell_type": "markdown",
   "id": "28a739d3-db70-4678-8096-3aec21fe0802",
   "metadata": {},
   "source": [
    "Q6. Can we create a nested dictionary? If so, please give an example by creating a simple one-level nested dictionary."
   ]
  },
  {
   "cell_type": "code",
   "execution_count": 22,
   "id": "bafcb9e0-4be7-4131-8e26-6842e83fa3a4",
   "metadata": {},
   "outputs": [
    {
     "name": "stdout",
     "output_type": "stream",
     "text": [
      "{'Sport': 'Cricket', 'Teams': {'England', 'South Africa', 'New Zealand', 'Sri Lanka', 'India', 'Australia'}}\n"
     ]
    }
   ],
   "source": [
    "## yes we can create\n",
    "dict1 = {'Sport': 'Cricket' , 'Teams': {'India', 'Australia', 'England', 'South Africa', 'Sri Lanka', 'New Zealand'}}\n",
    "print(dict1)"
   ]
  },
  {
   "cell_type": "markdown",
   "id": "322ef54f-4202-4ccb-8738-4e061de52297",
   "metadata": {},
   "source": [
    "Q7. Using setdefault() method, create key named topics in the given dictionary and also add the value of\n",
    "the key as this list ['Python', 'Machine Learning’, 'Deep Learning']\n",
    "dict1 = {'language' : 'Python', 'course': 'Data Science Masters'}"
   ]
  },
  {
   "cell_type": "code",
   "execution_count": 23,
   "id": "365e8f1c-40b0-457c-8076-0dcf91a667a8",
   "metadata": {},
   "outputs": [
    {
     "name": "stdout",
     "output_type": "stream",
     "text": [
      "{'language': 'Python', 'course': 'Data Science Masters', 'topics': ['Python', 'Machine Learning', 'Deep Learning']}\n"
     ]
    }
   ],
   "source": [
    "dict1 = {'language': 'Python', 'course': 'Data Science Masters'}\n",
    "dict1.setdefault('topics', ['Python', 'Machine Learning', 'Deep Learning'])\n",
    "print(dict1)"
   ]
  },
  {
   "cell_type": "markdown",
   "id": "7d28e845-927e-40c8-bbfb-ed745348b471",
   "metadata": {},
   "source": [
    "Q8. What are the three view objects in dictionaries? Use the three in-built methods in python to display\n",
    "these three view objects for the given dictionary.\n"
   ]
  },
  {
   "cell_type": "code",
   "execution_count": null,
   "id": "de9631d2-dd69-4a94-8aa8-348d41b295c8",
   "metadata": {},
   "outputs": [],
   "source": [
    "dict1 = {'Sport': 'Cricket', 'Teams': ['India', 'Australia', 'England', 'South Africa', 'Sri Lanka', 'New Zealand']}\n",
    "keys_view = dict1.keys()\n",
    "print( keys_view)\n",
    "values_view = dict1.values()\n",
    "print( values_view)\n",
    "\n",
    "items_view = dict1.items()\n",
    "print(items_view)\n"
   ]
  }
 ],
 "metadata": {
  "kernelspec": {
   "display_name": "Python 3 (ipykernel)",
   "language": "python",
   "name": "python3"
  },
  "language_info": {
   "codemirror_mode": {
    "name": "ipython",
    "version": 3
   },
   "file_extension": ".py",
   "mimetype": "text/x-python",
   "name": "python",
   "nbconvert_exporter": "python",
   "pygments_lexer": "ipython3",
   "version": "3.10.8"
  }
 },
 "nbformat": 4,
 "nbformat_minor": 5
}
